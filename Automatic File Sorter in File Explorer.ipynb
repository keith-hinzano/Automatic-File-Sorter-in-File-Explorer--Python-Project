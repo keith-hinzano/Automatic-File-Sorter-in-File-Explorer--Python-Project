{
 "cells": [
  {
   "cell_type": "code",
   "execution_count": null,
   "id": "702f2643-e8cc-4171-963a-8ac199289ee4",
   "metadata": {},
   "outputs": [],
   "source": [
    "Automatic File Sorter in File Explorer"
   ]
  },
  {
   "cell_type": "code",
   "execution_count": 87,
   "id": "258bc999-5ce2-4d51-a9a2-d8b76d276378",
   "metadata": {},
   "outputs": [],
   "source": [
    "import os, shutil"
   ]
  },
  {
   "cell_type": "code",
   "execution_count": 89,
   "id": "7cb25944-3d17-410b-99e3-17c4304fed03",
   "metadata": {},
   "outputs": [],
   "source": [
    "path = r\"C:/Users/Admin/OneDrive/Desktop/Python/\""
   ]
  },
  {
   "cell_type": "code",
   "execution_count": 101,
   "id": "d9eef832-0bf5-418d-8142-d80772b8871f",
   "metadata": {},
   "outputs": [],
   "source": [
    "file_name = os.listdir(path)"
   ]
  },
  {
   "cell_type": "code",
   "execution_count": 97,
   "id": "9ab7fcec-f30a-4a15-a75a-23a881543592",
   "metadata": {},
   "outputs": [
    {
     "name": "stdout",
     "output_type": "stream",
     "text": [
      "C:/Users/Admin/OneDrive/Desktop/Python/text files\n"
     ]
    }
   ],
   "source": [
    "folder_names = ['csv files', 'image files', 'text files']\n",
    "\n",
    "for loop in range(0,3):\n",
    "    if not os.path.exists(path + folder_names[loop]):\n",
    "        #print((path + folder_names[loop]))\n",
    "        os.makedirs((path + folder_names[loop]))\n",
    "\n",
    "for file in file_name:\n",
    "    if \".csv\" in file and not os.path.exists(path + \"csv files/\" + file):\n",
    "        shutil.move(path + file, path + \"csv files/\" + file)\n",
    "    elif \".png\" in file and not os.path.exists(path + \"image files/\" + file):\n",
    "        shutil.move(path + file, path + \"image files/\" + file)\n",
    "    elif \".txt\" in file and not os.path.exists(path + \"text files/\" + file):\n",
    "        shutil.move(path + file, path + \"text files/\" + file)\n",
    "\n"
   ]
  },
  {
   "cell_type": "code",
   "execution_count": null,
   "id": "319ada34-fc0a-4949-a293-9869f6706829",
   "metadata": {},
   "outputs": [],
   "source": []
  },
  {
   "cell_type": "code",
   "execution_count": null,
   "id": "92d2c443-7405-4da1-8c28-f560c4fb9696",
   "metadata": {},
   "outputs": [],
   "source": []
  },
  {
   "cell_type": "code",
   "execution_count": null,
   "id": "04b1ac02-a5ca-41ff-818b-ce0dbcea176c",
   "metadata": {},
   "outputs": [],
   "source": []
  },
  {
   "cell_type": "code",
   "execution_count": null,
   "id": "e6abc25c-729b-4bcf-a1a1-a429f4bd1e36",
   "metadata": {},
   "outputs": [],
   "source": []
  },
  {
   "cell_type": "code",
   "execution_count": null,
   "id": "f436f7e8-9463-40c7-bd10-8bd29317e2ef",
   "metadata": {},
   "outputs": [],
   "source": []
  },
  {
   "cell_type": "code",
   "execution_count": null,
   "id": "addb8cc7-a573-475d-bc12-2e277c8a11fb",
   "metadata": {},
   "outputs": [],
   "source": []
  },
  {
   "cell_type": "code",
   "execution_count": null,
   "id": "26d276c3-eeef-4126-b55f-10b474ad981a",
   "metadata": {},
   "outputs": [],
   "source": []
  },
  {
   "cell_type": "code",
   "execution_count": null,
   "id": "3cc932cc-dd38-4602-a485-4ca6e910b8cf",
   "metadata": {},
   "outputs": [],
   "source": []
  },
  {
   "cell_type": "code",
   "execution_count": null,
   "id": "46b86819-9871-486d-b326-5de09a68aaca",
   "metadata": {},
   "outputs": [],
   "source": []
  }
 ],
 "metadata": {
  "kernelspec": {
   "display_name": "Python 3 (ipykernel)",
   "language": "python",
   "name": "python3"
  },
  "language_info": {
   "codemirror_mode": {
    "name": "ipython",
    "version": 3
   },
   "file_extension": ".py",
   "mimetype": "text/x-python",
   "name": "python",
   "nbconvert_exporter": "python",
   "pygments_lexer": "ipython3",
   "version": "3.12.4"
  }
 },
 "nbformat": 4,
 "nbformat_minor": 5
}
